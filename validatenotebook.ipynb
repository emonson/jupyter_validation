{
 "cells": [
  {
   "cell_type": "code",
   "execution_count": 8,
   "metadata": {
    "collapsed": false
   },
   "outputs": [
    {
     "name": "stderr",
     "output_type": "stream",
     "text": [
      "100%|██████████| 4/4 [00:00<00:00, 660.42it/s]"
     ]
    },
    {
     "name": "stdout",
     "output_type": "stream",
     "text": [
      "Validated! Please verify the output\n"
     ]
    },
    {
     "name": "stderr",
     "output_type": "stream",
     "text": [
      "\n"
     ]
    }
   ],
   "source": [
    "from ipywidgets.widgets import Dropdown, Text, Button, HBox, VBox\n",
    "from IPython.display import display, clear_output\n",
    "import pandas as pd\n",
    "\n",
    "from FileValidator.app import TheValidator\n",
    "\n",
    "def get_clicked(b):\n",
    "    clear_output() #resets output every time you click the button\n",
    "    csv_to_dataframe = pd.read_csv(FILE_PATH.value)\n",
    "    validate_app = TheValidator(csv_to_dataframe, FUNCTION.value)\n",
    "    output = validate_app.main()\n",
    "    output.to_csv(FILE_PATH.value.replace('.csv', '_validated.csv'), sep=',')\n",
    "    print('Validated! Please verify the output')\n",
    "\n",
    "FILE_PATH = Text(placeholder='Path to file')\n",
    "VALIDATE_BUTTON = Button(description=\"Validate!\", button_style=\"primary\")\n",
    "FUNCTION = Dropdown(description=\"Select a File Type\", options=['FileType1'])\n",
    "VALIDATE_BUTTON.on_click(get_clicked)\n",
    "FILE_PATH.layout.width = '75%'\n",
    "display(FILE_PATH, FUNCTION)\n",
    "display(VALIDATE_BUTTON)"
   ]
  },
  {
   "cell_type": "code",
   "execution_count": 17,
   "metadata": {
    "collapsed": false
   },
   "outputs": [
    {
     "name": "stdout",
     "output_type": "stream",
     "text": [
      "\u001b[0m\u001b[01;34mFileValidator\u001b[0m/  README.md  test1_validated.csv\r\n",
      "\u001b[01;34mNotebook\u001b[0m/       test1.csv  Untitled.ipynb\r\n"
     ]
    }
   ],
   "source": [
    "ls"
   ]
  },
  {
   "cell_type": "code",
   "execution_count": 18,
   "metadata": {
    "collapsed": false
   },
   "outputs": [
    {
     "data": {
      "text/html": [
       "<div>\n",
       "<table border=\"1\" class=\"dataframe\">\n",
       "  <thead>\n",
       "    <tr style=\"text-align: right;\">\n",
       "      <th></th>\n",
       "      <th>Unnamed: 0</th>\n",
       "      <th>Validate Number</th>\n",
       "      <th>Validate String</th>\n",
       "      <th>Status</th>\n",
       "      <th>Error Message(s)</th>\n",
       "    </tr>\n",
       "  </thead>\n",
       "  <tbody>\n",
       "    <tr>\n",
       "      <th>0</th>\n",
       "      <td>0</td>\n",
       "      <td>1</td>\n",
       "      <td>Hi!</td>\n",
       "      <td>Success</td>\n",
       "      <td>NaN</td>\n",
       "    </tr>\n",
       "    <tr>\n",
       "      <th>1</th>\n",
       "      <td>1</td>\n",
       "      <td>10</td>\n",
       "      <td>Oh, no! Too many characters!</td>\n",
       "      <td>Error</td>\n",
       "      <td>Failed Validation: ('Too many characters',)</td>\n",
       "    </tr>\n",
       "    <tr>\n",
       "      <th>2</th>\n",
       "      <td>2</td>\n",
       "      <td>20</td>\n",
       "      <td>Numbers will fail</td>\n",
       "      <td>Error</td>\n",
       "      <td>Failed Validation: ('Number exceeds range',)</td>\n",
       "    </tr>\n",
       "    <tr>\n",
       "      <th>3</th>\n",
       "      <td>3</td>\n",
       "      <td>5</td>\n",
       "      <td>This is the end of the demo!</td>\n",
       "      <td>Error</td>\n",
       "      <td>Failed Validation: ('Too many characters',)</td>\n",
       "    </tr>\n",
       "  </tbody>\n",
       "</table>\n",
       "</div>"
      ],
      "text/plain": [
       "   Unnamed: 0  Validate Number               Validate String   Status  \\\n",
       "0           0                1                           Hi!  Success   \n",
       "1           1               10  Oh, no! Too many characters!    Error   \n",
       "2           2               20             Numbers will fail    Error   \n",
       "3           3                5  This is the end of the demo!    Error   \n",
       "\n",
       "                               Error Message(s)  \n",
       "0                                           NaN  \n",
       "1   Failed Validation: ('Too many characters',)  \n",
       "2  Failed Validation: ('Number exceeds range',)  \n",
       "3   Failed Validation: ('Too many characters',)  "
      ]
     },
     "execution_count": 18,
     "metadata": {},
     "output_type": "execute_result"
    }
   ],
   "source": [
    "df = pd.read_csv('test1_validated.csv')\n",
    "df"
   ]
  },
  {
   "cell_type": "code",
   "execution_count": null,
   "metadata": {
    "collapsed": true
   },
   "outputs": [],
   "source": []
  }
 ],
 "metadata": {
  "kernelspec": {
   "display_name": "Python 3",
   "language": "python",
   "name": "python3"
  },
  "language_info": {
   "codemirror_mode": {
    "name": "ipython",
    "version": 3
   },
   "file_extension": ".py",
   "mimetype": "text/x-python",
   "name": "python",
   "nbconvert_exporter": "python",
   "pygments_lexer": "ipython3",
   "version": "3.5.2"
  },
  "widgets": {
   "state": {
    "03017fd8c64a426eb135d262f5f9d235": {
     "views": [
      {
       "cell_index": 0
      }
     ]
    },
    "24a81071b20a4faca3db1765eefe329f": {
     "views": [
      {
       "cell_index": 0
      }
     ]
    },
    "637f00edb3954967b72cee567dbdda22": {
     "views": [
      {
       "cell_index": 0
      }
     ]
    },
    "778f6756ba2341dc9ed8fdeffd7702fa": {
     "views": [
      {
       "cell_index": 0
      }
     ]
    },
    "9dc231a8e2074fff95e777c5aedf805f": {
     "views": [
      {
       "cell_index": 0
      }
     ]
    },
    "cb4db9a697f04fb0909724f63ceed689": {
     "views": [
      {
       "cell_index": 0
      }
     ]
    },
    "d033895cedfd4069933fb48576c126f8": {
     "views": [
      {
       "cell_index": 0
      }
     ]
    }
   },
   "version": "1.2.0"
  }
 },
 "nbformat": 4,
 "nbformat_minor": 2
}
